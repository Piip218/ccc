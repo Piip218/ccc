{
 "cells": [
  {
   "cell_type": "code",
   "execution_count": null,
   "id": "e1c10300-3245-45c3-9806-abe9eb48c40e",
   "metadata": {},
   "outputs": [],
   "source": [
    "The Task:\n",
    "1) Goal to increase overall perfomance (rely on each metric), by choosing one of these pages:\n",
    "    increase order value per view; - to earn more money\n",
    "    increase overall purchase rate; - to increase average amount of purchases by user\n",
    "    increase time spent on page per user. - to spend time not only for purchasing, but also increase their time searching for another products\n",
    "\n",
    "2) Metrics:\n",
    "    order_value per view - ratio;\n",
    "    mean purchased - proportion;\n",
    "    time_on_page per user - mean.\n",
    "        I decided to place metrics in that way, since the main goal of any business is to make more money and make users to spend more. After completing thouse conditions it's nice to create ways to capture attention of our users to spend more.\n",
    "\n",
    "3) How: demonstrating different checkout pages (A \"default\", B, C).\n",
    "\n",
    "4) H0: in each of our test there is no differernce between groups;\n",
    "   Ha: our alternative variant has \"greater\" value;\n",
    "   p-value: 0.05;\n",
    "   power: 0.8."
   ]
  },
  {
   "cell_type": "code",
   "execution_count": 1,
   "id": "1f445c89-bb0a-4ef8-8eaa-4dcb7db08741",
   "metadata": {},
   "outputs": [],
   "source": [
    "import pandas as pd\n",
    "import numpy as np\n",
    "\n",
    "import seaborn as sns\n",
    "import  matplotlib.pyplot as plt\n",
    "\n",
    "import pingouin\n",
    "from scipy.stats import norm, chi2_contingency\n",
    "from statsmodels.stats import power\n",
    "import statsmodels.stats.multitest as smt\n",
    "from statsmodels.stats.proportion import proportion_effectsize, proportions_ztest, proportion_confint\n",
    "\n",
    "import warnings\n",
    "warnings.filterwarnings(\"ignore\")"
   ]
  },
  {
   "cell_type": "code",
   "execution_count": 2,
   "id": "42ff6c05-23d7-4329-b77c-b29bacc90637",
   "metadata": {},
   "outputs": [
    {
     "data": {
      "text/html": [
       "<div>\n",
       "<style scoped>\n",
       "    .dataframe tbody tr th:only-of-type {\n",
       "        vertical-align: middle;\n",
       "    }\n",
       "\n",
       "    .dataframe tbody tr th {\n",
       "        vertical-align: top;\n",
       "    }\n",
       "\n",
       "    .dataframe thead th {\n",
       "        text-align: right;\n",
       "    }\n",
       "</style>\n",
       "<table border=\"1\" class=\"dataframe\">\n",
       "  <thead>\n",
       "    <tr style=\"text-align: right;\">\n",
       "      <th></th>\n",
       "      <th>Unnamed: 0</th>\n",
       "      <th>user_id</th>\n",
       "      <th>checkout_page</th>\n",
       "      <th>order_value</th>\n",
       "      <th>purchased</th>\n",
       "      <th>gender</th>\n",
       "      <th>browser</th>\n",
       "      <th>time_on_page</th>\n",
       "    </tr>\n",
       "  </thead>\n",
       "  <tbody>\n",
       "    <tr>\n",
       "      <th>0</th>\n",
       "      <td>0</td>\n",
       "      <td>877621</td>\n",
       "      <td>A</td>\n",
       "      <td>29.410131</td>\n",
       "      <td>1.0</td>\n",
       "      <td>F</td>\n",
       "      <td>chrome</td>\n",
       "      <td>66.168628</td>\n",
       "    </tr>\n",
       "    <tr>\n",
       "      <th>1</th>\n",
       "      <td>1</td>\n",
       "      <td>876599</td>\n",
       "      <td>A</td>\n",
       "      <td>NaN</td>\n",
       "      <td>0.0</td>\n",
       "      <td>M</td>\n",
       "      <td>firefox</td>\n",
       "      <td>49.801887</td>\n",
       "    </tr>\n",
       "    <tr>\n",
       "      <th>2</th>\n",
       "      <td>2</td>\n",
       "      <td>905407</td>\n",
       "      <td>A</td>\n",
       "      <td>27.446845</td>\n",
       "      <td>1.0</td>\n",
       "      <td>M</td>\n",
       "      <td>chrome</td>\n",
       "      <td>56.744856</td>\n",
       "    </tr>\n",
       "    <tr>\n",
       "      <th>3</th>\n",
       "      <td>3</td>\n",
       "      <td>883562</td>\n",
       "      <td>A</td>\n",
       "      <td>30.602233</td>\n",
       "      <td>1.0</td>\n",
       "      <td>M</td>\n",
       "      <td>safari</td>\n",
       "      <td>71.890718</td>\n",
       "    </tr>\n",
       "    <tr>\n",
       "      <th>4</th>\n",
       "      <td>4</td>\n",
       "      <td>840542</td>\n",
       "      <td>A</td>\n",
       "      <td>29.668895</td>\n",
       "      <td>1.0</td>\n",
       "      <td>F</td>\n",
       "      <td>safari</td>\n",
       "      <td>67.410696</td>\n",
       "    </tr>\n",
       "  </tbody>\n",
       "</table>\n",
       "</div>"
      ],
      "text/plain": [
       "   Unnamed: 0  user_id checkout_page  order_value  purchased gender  browser  \\\n",
       "0           0   877621             A    29.410131        1.0      F   chrome   \n",
       "1           1   876599             A          NaN        0.0      M  firefox   \n",
       "2           2   905407             A    27.446845        1.0      M   chrome   \n",
       "3           3   883562             A    30.602233        1.0      M   safari   \n",
       "4           4   840542             A    29.668895        1.0      F   safari   \n",
       "\n",
       "   time_on_page  \n",
       "0     66.168628  \n",
       "1     49.801887  \n",
       "2     56.744856  \n",
       "3     71.890718  \n",
       "4     67.410696  "
      ]
     },
     "execution_count": 2,
     "metadata": {},
     "output_type": "execute_result"
    }
   ],
   "source": [
    "df = pd.read_csv(\"C:/Users/ASUS-X515EP/Downloads/checkout.csv\", sep=';').drop_duplicates()\n",
    "df.head()"
   ]
  },
  {
   "cell_type": "markdown",
   "id": "bb1eb0a5-ce52-40d8-957c-cf4abfe29f17",
   "metadata": {},
   "source": [
    "## EDA"
   ]
  },
  {
   "cell_type": "code",
   "execution_count": 3,
   "id": "91442b5d-45c6-4f59-bbe9-6015abbcd453",
   "metadata": {},
   "outputs": [
    {
     "name": "stdout",
     "output_type": "stream",
     "text": [
      "<class 'pandas.core.frame.DataFrame'>\n",
      "RangeIndex: 9000 entries, 0 to 8999\n",
      "Data columns (total 8 columns):\n",
      " #   Column         Non-Null Count  Dtype  \n",
      "---  ------         --------------  -----  \n",
      " 0   Unnamed: 0     9000 non-null   int64  \n",
      " 1   user_id        9000 non-null   int64  \n",
      " 2   checkout_page  9000 non-null   object \n",
      " 3   order_value    7605 non-null   float64\n",
      " 4   purchased      9000 non-null   float64\n",
      " 5   gender         9000 non-null   object \n",
      " 6   browser        9000 non-null   object \n",
      " 7   time_on_page   9000 non-null   float64\n",
      "dtypes: float64(3), int64(2), object(3)\n",
      "memory usage: 562.6+ KB\n"
     ]
    }
   ],
   "source": [
    "df.info()"
   ]
  },
  {
   "cell_type": "code",
   "execution_count": 4,
   "id": "b5b1ce6c-48e8-4b52-a0c0-2429256ea559",
   "metadata": {},
   "outputs": [
    {
     "data": {
      "text/plain": [
       "0"
      ]
     },
     "execution_count": 4,
     "metadata": {},
     "output_type": "execute_result"
    }
   ],
   "source": [
    "df.duplicated().sum()"
   ]
  },
  {
   "cell_type": "code",
   "execution_count": 5,
   "id": "5f05723a-f6b9-4123-a1c6-dc7736d8fce8",
   "metadata": {},
   "outputs": [
    {
     "data": {
      "text/plain": [
       "Unnamed: 0          0\n",
       "user_id             0\n",
       "checkout_page       0\n",
       "order_value      1395\n",
       "purchased           0\n",
       "gender              0\n",
       "browser             0\n",
       "time_on_page        0\n",
       "dtype: int64"
      ]
     },
     "execution_count": 5,
     "metadata": {},
     "output_type": "execute_result"
    }
   ],
   "source": [
    "df.isna().sum()"
   ]
  },
  {
   "cell_type": "code",
   "execution_count": 6,
   "id": "cd171e2a-cafb-4889-ae72-0e5c198a0deb",
   "metadata": {},
   "outputs": [
    {
     "data": {
      "text/html": [
       "<div>\n",
       "<style scoped>\n",
       "    .dataframe tbody tr th:only-of-type {\n",
       "        vertical-align: middle;\n",
       "    }\n",
       "\n",
       "    .dataframe tbody tr th {\n",
       "        vertical-align: top;\n",
       "    }\n",
       "\n",
       "    .dataframe thead th {\n",
       "        text-align: right;\n",
       "    }\n",
       "</style>\n",
       "<table border=\"1\" class=\"dataframe\">\n",
       "  <thead>\n",
       "    <tr style=\"text-align: right;\">\n",
       "      <th></th>\n",
       "      <th>Unnamed: 0</th>\n",
       "      <th>user_id</th>\n",
       "      <th>checkout_page</th>\n",
       "      <th>order_value</th>\n",
       "      <th>purchased</th>\n",
       "      <th>gender</th>\n",
       "      <th>browser</th>\n",
       "      <th>time_on_page</th>\n",
       "    </tr>\n",
       "  </thead>\n",
       "  <tbody>\n",
       "    <tr>\n",
       "      <th>0</th>\n",
       "      <td>0</td>\n",
       "      <td>877621</td>\n",
       "      <td>A</td>\n",
       "      <td>29.410131</td>\n",
       "      <td>1.0</td>\n",
       "      <td>F</td>\n",
       "      <td>chrome</td>\n",
       "      <td>66.168628</td>\n",
       "    </tr>\n",
       "    <tr>\n",
       "      <th>1</th>\n",
       "      <td>1</td>\n",
       "      <td>876599</td>\n",
       "      <td>A</td>\n",
       "      <td>NaN</td>\n",
       "      <td>0.0</td>\n",
       "      <td>M</td>\n",
       "      <td>firefox</td>\n",
       "      <td>49.801887</td>\n",
       "    </tr>\n",
       "    <tr>\n",
       "      <th>2</th>\n",
       "      <td>2</td>\n",
       "      <td>905407</td>\n",
       "      <td>A</td>\n",
       "      <td>27.446845</td>\n",
       "      <td>1.0</td>\n",
       "      <td>M</td>\n",
       "      <td>chrome</td>\n",
       "      <td>56.744856</td>\n",
       "    </tr>\n",
       "    <tr>\n",
       "      <th>3</th>\n",
       "      <td>3</td>\n",
       "      <td>883562</td>\n",
       "      <td>A</td>\n",
       "      <td>30.602233</td>\n",
       "      <td>1.0</td>\n",
       "      <td>M</td>\n",
       "      <td>safari</td>\n",
       "      <td>71.890718</td>\n",
       "    </tr>\n",
       "    <tr>\n",
       "      <th>4</th>\n",
       "      <td>4</td>\n",
       "      <td>840542</td>\n",
       "      <td>A</td>\n",
       "      <td>29.668895</td>\n",
       "      <td>1.0</td>\n",
       "      <td>F</td>\n",
       "      <td>safari</td>\n",
       "      <td>67.410696</td>\n",
       "    </tr>\n",
       "  </tbody>\n",
       "</table>\n",
       "</div>"
      ],
      "text/plain": [
       "   Unnamed: 0  user_id checkout_page  order_value  purchased gender  browser  \\\n",
       "0           0   877621             A    29.410131        1.0      F   chrome   \n",
       "1           1   876599             A          NaN        0.0      M  firefox   \n",
       "2           2   905407             A    27.446845        1.0      M   chrome   \n",
       "3           3   883562             A    30.602233        1.0      M   safari   \n",
       "4           4   840542             A    29.668895        1.0      F   safari   \n",
       "\n",
       "   time_on_page  \n",
       "0     66.168628  \n",
       "1     49.801887  \n",
       "2     56.744856  \n",
       "3     71.890718  \n",
       "4     67.410696  "
      ]
     },
     "execution_count": 6,
     "metadata": {},
     "output_type": "execute_result"
    }
   ],
   "source": [
    "df.head()"
   ]
  },
  {
   "cell_type": "code",
   "execution_count": 7,
   "id": "03581a0c-15cf-4d48-ab59-518a590ceffe",
   "metadata": {
    "scrolled": true
   },
   "outputs": [
    {
     "data": {
      "image/png": "[encoded data removed]",
      "text/plain": [
       "<Figure size 615.861x500 with 1 Axes>"
      ]
     },
     "metadata": {},
     "output_type": "display_data"
    },
    {
     "data": {
      "image/png": "[encoded data removed]",
      "text/plain": [
       "<Figure size 615.861x500 with 1 Axes>"
      ]
     },
     "metadata": {},
     "output_type": "display_data"
    }
   ],
   "source": [
    "# Distribution of numeric values.\n",
    "for i in ['order_value', 'time_on_page']:\n",
    "    sns.displot(\n",
    "        data=df,\n",
    "        x=i,\n",
    "        hue='checkout_page')\n",
    "plt.show()"
   ]
  },
  {
   "cell_type": "code",
   "execution_count": 8,
   "id": "cbfad1d9-d12a-4b18-82cb-d79cb98805d5",
   "metadata": {},
   "outputs": [
    {
     "data": {
      "text/plain": [
       "<Axes: xlabel='checkout_page', ylabel='proportion'>"
      ]
     },
     "execution_count": 8,
     "metadata": {},
     "output_type": "execute_result"
    },
    {
     "data": {
      "image/png": "[encoded data removed]",
      "text/plain": [
       "<Figure size 640x480 with 1 Axes>"
      ]
     },
     "metadata": {},
     "output_type": "display_data"
    }
   ],
   "source": [
    "# Ptoportion of groups.\n",
    "df_prop = pd.DataFrame(df.checkout_page.value_counts(normalize=True).reset_index()) #.plot(kind='bar', color='checkout_page')\n",
    "sns.barplot(df_prop, x='checkout_page', y='proportion', hue='checkout_page')"
   ]
  },
  {
   "cell_type": "code",
   "execution_count": 9,
   "id": "eeb7a3a4-f334-430e-b9ca-f907d06bf8ba",
   "metadata": {},
   "outputs": [
    {
     "data": {
      "text/plain": [
       "checkout_page  gender  browser\n",
       "A              F       chrome     0.342088\n",
       "                       safari     0.340741\n",
       "                       firefox    0.317172\n",
       "               M       chrome     0.340594\n",
       "                       firefox    0.335974\n",
       "                       safari     0.323432\n",
       "B              F       safari     0.362681\n",
       "                       chrome     0.331800\n",
       "                       firefox    0.305519\n",
       "               M       firefox    0.345061\n",
       "                       safari     0.341001\n",
       "                       chrome     0.313938\n",
       "C              F       firefox    0.337604\n",
       "                       chrome     0.331839\n",
       "                       safari     0.330557\n",
       "               M       safari     0.362752\n",
       "                       chrome     0.328006\n",
       "                       firefox    0.309243\n",
       "Name: proportion, dtype: float64"
      ]
     },
     "execution_count": 9,
     "metadata": {},
     "output_type": "execute_result"
    }
   ],
   "source": [
    "df.groupby(['checkout_page', 'gender']).browser.value_counts(normalize=True)"
   ]
  },
  {
   "cell_type": "raw",
   "id": "6ace2a15-f66d-4725-86cc-6cc118591b35",
   "metadata": {},
   "source": []
  },
  {
   "cell_type": "raw",
   "id": "3b260e61-544f-46c5-ad7b-49543bd746db",
   "metadata": {},
   "source": []
  },
  {
   "cell_type": "markdown",
   "id": "f5db67e0-4747-4b1a-8a49-6c5e4a43bba8",
   "metadata": {},
   "source": [
    "## Функції для роботи"
   ]
  },
  {
   "cell_type": "code",
   "execution_count": 10,
   "id": "829b1568-303b-49fc-8ef6-67e5a46bb5f9",
   "metadata": {},
   "outputs": [],
   "source": [
    "# To identify effect size.\n",
    "def cohens_d(group1, group2):\n",
    "    diff = group2.mean() - group1.mean()\n",
    "    n1, n2 = len(group1), len(group2)\n",
    "    var1, var2 = group1.var(), group2.var()\n",
    "    pooled_std = np.sqrt(((n1 - 1) * var1 + (n2 - 1) * var2) / (n1 + n2 - 2))\n",
    "    d = diff / pooled_std\n",
    "    return d"
   ]
  },
  {
   "cell_type": "code",
   "execution_count": 11,
   "id": "db00c9b3-5ed6-43d1-92cc-ebc38440c6fb",
   "metadata": {},
   "outputs": [],
   "source": [
    "# As value order per user it is a complex metrics (with includes 2 variables, which haves different std) - we should use delta method.\n",
    "# Variation for delta method.\n",
    "def var_delta(x,y): \n",
    "    x_bar = np.mean(x)\n",
    "    y_bar = np.mean(y)\n",
    "    x_var = np.var(x, ddof=1)\n",
    "    y_var = np.var(y, ddof=1)\n",
    "    cov_xy = np.cov(x, y, ddof=1)[0][1]    \n",
    "    var_ratio = (x_var / y_bar**2 + y_var * (x_bar**2 / y_bar**4) - 2 * cov_xy * (x_bar / y_bar ** 3)) / len(x)\n",
    "    return var_ratio"
   ]
  },
  {
   "cell_type": "code",
   "execution_count": 35,
   "id": "f2e02945-ca2a-46aa-b799-2ace51c78b32",
   "metadata": {},
   "outputs": [],
   "source": [
    "# Calulating p-value\n",
    "def ztest_delta(x_control, y_control, x_treatment, y_treatment, alpha=0.05):\n",
    "    mean_control = x_control.sum() / y_control.sum()\n",
    "    mean_treatment = x_treatment.sum() / y_treatment.sum()\n",
    "    var_control = var_delta(x_control, y_control)\n",
    "    var_treatment = var_delta(x_treatment, y_treatment)\n",
    "    diff = mean_treatment - mean_control\n",
    "    var = var_control + var_treatment\n",
    "    \n",
    "    # Calculate the two-tailed critical value\n",
    "    cv = norm.ppf(1 - alpha / 2)\n",
    "    \n",
    "    # Calculate the z_stat\n",
    "    z_stat = diff / np.sqrt(var)\n",
    "    \n",
    "    # Calculate the p-value\n",
    "    p_val = norm.sf(abs(z_stat)) * 2.0\n",
    "    \n",
    "    # Calculate confidence intervals of the difference\n",
    "    stde = cv * np.sqrt(var)\n",
    "    lower = diff - stde \n",
    "    upper = diff + stde\n",
    "    \n",
    "    result = {'mean_control':mean_control,\n",
    "              'mean_treatment':mean_treatment,\n",
    "              'difference':round(diff, 3),\n",
    "              'diff_CI':\"[\"+str(round(lower,3))+\", \"+str(round(upper,3))+\"]\",\n",
    "              'p-value':p_val}\n",
    "    return result"
   ]
  },
  {
   "cell_type": "raw",
   "id": "f59c1772-099e-4334-8445-0f2316c0859d",
   "metadata": {},
   "source": []
  },
  {
   "cell_type": "raw",
   "id": "fe46b002-4a45-4264-92c9-a42766b4b50a",
   "metadata": {},
   "source": []
  },
  {
   "cell_type": "markdown",
   "id": "46280e90-3eeb-425f-82aa-a9c55e7d1458",
   "metadata": {},
   "source": [
    "# A/B Testing"
   ]
  },
  {
   "cell_type": "code",
   "execution_count": 18,
   "id": "df050833-0a12-4fae-9d20-fce608e6ea0f",
   "metadata": {},
   "outputs": [
    {
     "name": "stdout",
     "output_type": "stream",
     "text": [
      "Default purchase rate: 0.8203333333333334\n",
      "Default order value: 20.472597188012\n",
      "Default time on page: 44.668526676641186\n"
     ]
    }
   ],
   "source": [
    "# Page A is a default one.\n",
    "print(f\"Default purchase rate: {df[df['checkout_page']=='A'].purchased.mean()}\")\n",
    "print(f\"Default order value: {df[df['checkout_page']=='A'].groupby('user_id')['order_value'].sum().sum() / df[df['checkout_page']=='A'].groupby('user_id')['user_id'].count().sum()}\")\n",
    "print(f\"Default time on page: {df[df['checkout_page']=='A'].time_on_page.mean()}\")"
   ]
  },
  {
   "cell_type": "code",
   "execution_count": 19,
   "id": "82452024-3ab9-42ee-b78b-d21de5eca8ac",
   "metadata": {},
   "outputs": [
    {
     "name": "stdout",
     "output_type": "stream",
     "text": [
      "      test  lambda      chi2  dof      pval    cramer     power\n",
      "0  pearson     1.0  3.423705  4.0  0.489574  0.013792  0.151602\n"
     ]
    }
   ],
   "source": [
    "# Identify, if there are any uneven groups.\n",
    "expected, observed, stats = pingouin.chi2_independence(\n",
    "    data=df, \n",
    "    x='checkout_page',\n",
    "    y='browser', \n",
    "    correction=False\n",
    ")\n",
    "\n",
    "print(stats[stats['test']=='pearson'])\n",
    "# Оскільки p-value > 0.05 - спостереження незалежні, тому групи розподілені однаквово між собою."
   ]
  },
  {
   "cell_type": "raw",
   "id": "b804e220-e560-45a9-83d9-394e2459252d",
   "metadata": {},
   "source": []
  },
  {
   "cell_type": "raw",
   "id": "0f7c9c7f-ab46-4660-96b1-22a1a852d203",
   "metadata": {},
   "source": []
  },
  {
   "cell_type": "markdown",
   "id": "ef1acb1f-ac7c-4b99-b9c7-29f68fb50fc4",
   "metadata": {},
   "source": [
    "## Order value per user"
   ]
  },
  {
   "cell_type": "code",
   "execution_count": 20,
   "id": "9767c504-8e32-41f3-a852-92f5859cbe52",
   "metadata": {},
   "outputs": [
    {
     "name": "stdout",
     "output_type": "stream",
     "text": [
      "                      W      pval  normal\n",
      "checkout_page                            \n",
      "A              1.876135  0.391383    True\n",
      "B              2.019789  0.364257    True\n",
      "C              2.803774  0.246132    True\n"
     ]
    }
   ],
   "source": [
    "# Check normality of each group\n",
    "normality = pingouin.normality(\n",
    "        data=df,\n",
    "        dv='order_value',\n",
    "        group='checkout_page',\n",
    "        method='normaltest',\n",
    "        alpha=0.05)\n",
    "print(normality)\n",
    "# p-val > 0.05 - groups have norm dist. "
   ]
  },
  {
   "cell_type": "markdown",
   "id": "4804f48e-2de6-4132-9315-2cbb7c886195",
   "metadata": {},
   "source": [
    "### A and B"
   ]
  },
  {
   "cell_type": "code",
   "execution_count": 22,
   "id": "751221ca-2aaf-49f2-b1aa-239f44870f79",
   "metadata": {},
   "outputs": [
    {
     "name": "stdout",
     "output_type": "stream",
     "text": [
      "Effect size: 0.91\n"
     ]
    }
   ],
   "source": [
    "print(f\"Effect size: {cohens_d(df[df['checkout_page']=='A']['order_value'], df[df['checkout_page']=='B']['order_value']):.2f}\")\n",
    "# This effect size is considered to be large."
   ]
  },
  {
   "cell_type": "code",
   "execution_count": 23,
   "id": "4f6e4b45-58e4-4bf1-b15f-f3e8c2efeaee",
   "metadata": {},
   "outputs": [
    {
     "data": {
      "text/plain": [
       "1.0"
      ]
     },
     "execution_count": 23,
     "metadata": {},
     "output_type": "execute_result"
    }
   ],
   "source": [
    "# The power of our test.\n",
    "effect_size = cohens_d(df[df['checkout_page']=='A']['order_value'], df[df['checkout_page']=='B']['order_value'])\n",
    "power.NormalIndPower().power(effect_size=effect_size,\n",
    "                                alpha=0.05,\n",
    "                                nobs1=3000)\n",
    "# We have ~100% chance to identify difference, if it exists between groups A and B."
   ]
  },
  {
   "cell_type": "code",
   "execution_count": 36,
   "id": "c0383b9a-e797-4323-93de-3e05c65eeebc",
   "metadata": {
    "scrolled": true
   },
   "outputs": [
    {
     "name": "stdout",
     "output_type": "stream",
     "text": [
      "p-value: 5.954978880471644e-61\n",
      "difference between groups: 4.833\n",
      "CI for difference: [4.257, 5.408]\n"
     ]
    }
   ],
   "source": [
    "# Between A and B\n",
    "A_per_user = pd.DataFrame({\n",
    "    'order_value':df[df['checkout_page']=='A'].groupby('user_id')['order_value'].sum(),\n",
    "    'page_view':df[df['checkout_page']=='A'].groupby('user_id')['user_id'].count()\n",
    "})\n",
    "\n",
    "B_per_user = pd.DataFrame({\n",
    "    'order_value':df[df['checkout_page']=='B'].groupby('user_id')['order_value'].sum(),\n",
    "    'page_view':df[df['checkout_page']=='B'].groupby('user_id')['user_id'].count()\n",
    "})\n",
    "\n",
    "x_control = A_per_user['order_value']\n",
    "y_control = A_per_user['page_view']\n",
    "x_treatment = B_per_user['order_value']\n",
    "y_treatment = B_per_user['page_view']\n",
    "\n",
    "p_val_AB_order_value = ztest_delta(x_control, y_control, x_treatment, y_treatment)\n",
    "\n",
    "print(f'p-value: {p_val_AB_order_value[\"p-value\"]}')\n",
    "print(f'difference between groups: {p_val_AB_order_value[\"difference\"]}')\n",
    "print(f'CI for difference: {p_val_AB_order_value[\"diff_CI\"]}')\n",
    "# As p-value < 0.05 - we reject our null hypothesis. -> B > A"
   ]
  },
  {
   "cell_type": "markdown",
   "id": "d6b3f460-b886-41f2-a513-3b67bf0048fa",
   "metadata": {},
   "source": [
    "### A and C"
   ]
  },
  {
   "cell_type": "code",
   "execution_count": 37,
   "id": "17ce26e7-bd6d-43fa-b626-f2341aa6b89d",
   "metadata": {},
   "outputs": [
    {
     "name": "stdout",
     "output_type": "stream",
     "text": [
      "Effect size: 2.59\n"
     ]
    }
   ],
   "source": [
    "print(f\"Effect size: {cohens_d(df[df['checkout_page']=='A']['order_value'], df[df['checkout_page']=='C']['order_value']):.2f}\")\n",
    "# This effect size is considered to be very large."
   ]
  },
  {
   "cell_type": "code",
   "execution_count": 38,
   "id": "96751b85-2859-47be-8024-26a99a5860e8",
   "metadata": {},
   "outputs": [
    {
     "data": {
      "text/plain": [
       "1.0"
      ]
     },
     "execution_count": 38,
     "metadata": {},
     "output_type": "execute_result"
    }
   ],
   "source": [
    "# The power of our test.\n",
    "effect_size = cohens_d(df[df['checkout_page']=='A']['order_value'], df[df['checkout_page']=='C']['order_value'])\n",
    "power.NormalIndPower().power(effect_size=effect_size,\n",
    "                                alpha=0.05,\n",
    "                                nobs1=3000)\n",
    "# We have 100% chance to identify difference, if it exists between groups A and C."
   ]
  },
  {
   "cell_type": "code",
   "execution_count": 39,
   "id": "824f2d5f-1d4a-4685-95ad-f99cc391218a",
   "metadata": {},
   "outputs": [
    {
     "name": "stdout",
     "output_type": "stream",
     "text": [
      "p-value: 1.5695484218904422e-246\n",
      "difference between groups: 9.824\n",
      "CI for difference: [9.25, 10.398]\n"
     ]
    }
   ],
   "source": [
    "# Between A and C\n",
    "A_per_user = pd.DataFrame({\n",
    "    'order_value':df[df['checkout_page']=='A'].groupby('user_id')['order_value'].sum(),\n",
    "    'page_view':df[df['checkout_page']=='A'].groupby('user_id')['user_id'].count()\n",
    "})\n",
    "\n",
    "C_per_user = pd.DataFrame({\n",
    "    'order_value':df[df['checkout_page']=='C'].groupby('user_id')['order_value'].sum(),\n",
    "    'page_view':df[df['checkout_page']=='C'].groupby('user_id')['user_id'].count()\n",
    "})\n",
    "\n",
    "x_control = A_per_user['order_value']\n",
    "y_control = A_per_user['page_view']\n",
    "x_treatment = C_per_user['order_value']\n",
    "y_treatment = C_per_user['page_view']\n",
    "\n",
    "p_val_AC_order_value = ztest_delta(x_control, y_control, x_treatment, y_treatment)\n",
    "\n",
    "print(f'p-value: {p_val_AC_order_value[\"p-value\"]}')\n",
    "print(f'difference between groups: {p_val_AC_order_value[\"difference\"]}')\n",
    "print(f'CI for difference: {p_val_AC_order_value[\"diff_CI\"]}')\n",
    "# As p-value < 0.05 - we reject our null hypothesis. -> C > A"
   ]
  },
  {
   "cell_type": "markdown",
   "id": "e4eb0187-3d9f-4a4c-aa36-55b4f92df20e",
   "metadata": {},
   "source": [
    "### B and C"
   ]
  },
  {
   "cell_type": "code",
   "execution_count": 40,
   "id": "7ca417ea-3de1-495a-aaa7-7174dfce272c",
   "metadata": {},
   "outputs": [
    {
     "name": "stdout",
     "output_type": "stream",
     "text": [
      "Effect size: 0.81\n"
     ]
    }
   ],
   "source": [
    "print(f\"Effect size: {cohens_d(df[df['checkout_page']=='B']['order_value'], df[df['checkout_page']=='C']['order_value']):.2f}\")\n",
    "# This effect size is considered to be large between B and C."
   ]
  },
  {
   "cell_type": "code",
   "execution_count": 41,
   "id": "6325b62f-82b4-4640-921b-bb190927dba5",
   "metadata": {},
   "outputs": [
    {
     "name": "stdout",
     "output_type": "stream",
     "text": [
      "p-value: 1.0974571031912711e-52\n",
      "difference between groups: 4.992\n",
      "CI for difference: [4.351, 5.632]\n"
     ]
    }
   ],
   "source": [
    "# Between B and C (the final choice)\n",
    "B_per_user = pd.DataFrame({\n",
    "    'order_value':df[df['checkout_page']=='B'].groupby('user_id')['order_value'].sum(),\n",
    "    'page_view':df[df['checkout_page']=='B'].groupby('user_id')['user_id'].count()\n",
    "})\n",
    "\n",
    "C_per_user = pd.DataFrame({\n",
    "    'order_value':df[df['checkout_page']=='C'].groupby('user_id')['order_value'].sum(),\n",
    "    'page_view':df[df['checkout_page']=='C'].groupby('user_id')['user_id'].count()\n",
    "})\n",
    "\n",
    "x_control = B_per_user['order_value']\n",
    "y_control = B_per_user['page_view']\n",
    "x_treatment = C_per_user['order_value']\n",
    "y_treatment = C_per_user['page_view']\n",
    "\n",
    "p_val_BC_order_value = ztest_delta(x_control, y_control, x_treatment, y_treatment)\n",
    "\n",
    "print(f'p-value: {p_val_BC_order_value[\"p-value\"]}')\n",
    "print(f'difference between groups: {p_val_BC_order_value[\"difference\"]}')\n",
    "print(f'CI for difference: {p_val_BC_order_value[\"diff_CI\"]}')\n",
    "# As p-value < 0.05 - we reject our null hypothesis. -> C > B"
   ]
  },
  {
   "cell_type": "code",
   "execution_count": 42,
   "id": "254aec6c-45e5-45fb-bf37-cfd708ca78dc",
   "metadata": {},
   "outputs": [
    {
     "name": "stdout",
     "output_type": "stream",
     "text": [
      "(array([ True,  True,  True]), array([1.78649366e-060, 4.70864527e-246, 3.29237131e-052]), 0.016952427508441503, 0.016666666666666666)\n"
     ]
    }
   ],
   "source": [
    "# Apply correction.\n",
    "pvals=[5.954978880471644e-61, 1.5695484218904422e-246, 1.0974571031912711e-52]\n",
    "\n",
    "corrected = smt.multipletests(pvals, \n",
    "                                alpha=0.05, \n",
    "                                method='sidak')\n",
    "print(corrected)"
   ]
  },
  {
   "cell_type": "code",
   "execution_count": null,
   "id": "f62480b1-8c6b-4703-bea3-480e7bc3e856",
   "metadata": {},
   "outputs": [],
   "source": [
    "As we observed, there is exists signifficant difference with large effect sizes between A and B; A and C. So i tested difference between B and C. \n",
    "    As the result - page \"C\" has the largest order value per user, since p-value is small and effect size is large."
   ]
  },
  {
   "cell_type": "raw",
   "id": "c00680f9-7348-4f3f-b849-8892aa9eed7f",
   "metadata": {},
   "source": []
  },
  {
   "cell_type": "raw",
   "id": "bb3cffac-2ec3-4703-ad6f-694d2de6a421",
   "metadata": {},
   "source": []
  },
  {
   "cell_type": "markdown",
   "id": "db301b6a-1f83-49d1-9eb5-9fcbc2af1db1",
   "metadata": {},
   "source": [
    "## Purchase rate"
   ]
  },
  {
   "cell_type": "code",
   "execution_count": 162,
   "id": "7273ad8f-e6d1-4974-8e89-5eb859c7c5c2",
   "metadata": {},
   "outputs": [],
   "source": [
    "# There is no need in normal-distribution, as it proportion test and chi2-test does not demand parametric conditions."
   ]
  },
  {
   "cell_type": "code",
   "execution_count": 390,
   "id": "9de7b921-b6ef-4e0e-b70e-24e3c8296a24",
   "metadata": {},
   "outputs": [
    {
     "data": {
      "text/plain": [
       "<Axes: xlabel='checkout_page', ylabel='purchased'>"
      ]
     },
     "execution_count": 390,
     "metadata": {},
     "output_type": "execute_result"
    },
    {
     "data": {
      "image/png": "[encoded data removed]",
      "text/plain": [
       "<Figure size 640x480 with 1 Axes>"
      ]
     },
     "metadata": {},
     "output_type": "display_data"
    }
   ],
   "source": [
    "# Distribution of those, who made a purchase\n",
    "sns.barplot(data=df,\n",
    "           x='checkout_page',\n",
    "           y='purchased',\n",
    "           estimator='sum')"
   ]
  },
  {
   "cell_type": "markdown",
   "id": "fa8c8baa-ac51-4bc7-a438-68c4905bc08a",
   "metadata": {},
   "source": [
    "### A and B"
   ]
  },
  {
   "cell_type": "code",
   "execution_count": 43,
   "id": "bc7bfd76-b223-4ede-afde-d06d12fdfc8c",
   "metadata": {},
   "outputs": [
    {
     "name": "stdout",
     "output_type": "stream",
     "text": [
      "Effect size: 0.072\n"
     ]
    }
   ],
   "source": [
    "p_A = (df[df['checkout_page']=='A']['purchased']).mean()\n",
    "p_B = (df[df['checkout_page']=='B']['purchased']).mean()\n",
    "\n",
    "effect_size = proportion_effectsize(p_B, p_A)\n",
    "print(f'Effect size: {effect_size:.3f}')\n",
    "# Effect size is small."
   ]
  },
  {
   "cell_type": "code",
   "execution_count": 44,
   "id": "bd2718c6-4e26-4286-8cec-4f8659ff7665",
   "metadata": {},
   "outputs": [
    {
     "data": {
      "text/plain": [
       "0.7924991154351732"
      ]
     },
     "execution_count": 44,
     "metadata": {},
     "output_type": "execute_result"
    }
   ],
   "source": [
    "# The power of our test.\n",
    "power.TTestIndPower().power(effect_size=effect_size,\n",
    "                                alpha=0.05,\n",
    "                                nobs1=3000)\n",
    "# We have ~80% chance to identify difference, if it exists between groups A and B."
   ]
  },
  {
   "cell_type": "code",
   "execution_count": 55,
   "id": "f574b1f3-3bfb-458e-9d65-a70f08a024f9",
   "metadata": {},
   "outputs": [
    {
     "name": "stdout",
     "output_type": "stream",
     "text": [
      "Group A signup rate: 0.821\n",
      "Group B signup rate: 0.848\n",
      "p-value: 0.005765187821271246\n"
     ]
    }
   ],
   "source": [
    "# Independence between A and B\n",
    "n_A = df[df['checkout_page'] == \"A\"]['user_id'].nunique()\n",
    "n_B = df[df['checkout_page'] == 'B']['user_id'].nunique()\n",
    "\n",
    "signup_A = df[df['checkout_page'] == 'A'].groupby('user_id')['purchased'].max().sum()\n",
    "no_signup_A = n_A - signup_A\n",
    "signup_B = df[df['checkout_page'] == 'B'].groupby('user_id')['purchased'].max().sum()\n",
    "no_signup_B = n_B - signup_B\n",
    "\n",
    "table = [[signup_A, no_signup_A], [signup_B, no_signup_B]]\n",
    "print('Group A signup rate:', round(signup_A / n_A, 3))\n",
    "print('Group B signup rate:', round(signup_B / n_B, 3))\n",
    "\n",
    "print('p-value:', chi2_contingency(table, correction=False)[1])\n",
    "# p-value < 0.05, they are dependent, so there is exists a difference."
   ]
  },
  {
   "cell_type": "code",
   "execution_count": 51,
   "id": "79c925e3-9e07-4677-9836-cdf65cb5eb6c",
   "metadata": {},
   "outputs": [
    {
     "name": "stdout",
     "output_type": "stream",
     "text": [
      "p-value: 0.0058\n",
      "Group A 95% CI : [0.8072, 0.8349]\n",
      "Group B 95% CI : [0.8349, 0.8608]\n"
     ]
    }
   ],
   "source": [
    "signups_abtest = [signup_A, signup_B]\n",
    "n_abtest = [n_A, n_B]\n",
    "\n",
    "z_stat, pvalue = proportions_ztest(\n",
    "    signups_abtest,\n",
    "    nobs=n_abtest)\n",
    "\n",
    "(A_lo95, B_lo95), (A_up95, B_up95) = proportion_confint(\n",
    "    signups_abtest,\n",
    "    nobs=n_abtest,\n",
    "    alpha=0.05)\n",
    "\n",
    "print(f'p-value: {pvalue:.4f}')\n",
    "print(f'Group A 95% CI : [{A_lo95:.4f}, {A_up95:.4f}]')\n",
    "print(f'Group B 95% CI : [{B_lo95:.4f}, {B_up95:.4f}]')\n",
    "# As p-value < 0.05 - we reject our null hypothesis. -> B > A"
   ]
  },
  {
   "cell_type": "markdown",
   "id": "e68bad84-ba21-4262-9810-b949e0883451",
   "metadata": {},
   "source": [
    "### A and C"
   ]
  },
  {
   "cell_type": "code",
   "execution_count": 56,
   "id": "75b245f7-30c1-4e18-b8cc-be4c4441185a",
   "metadata": {},
   "outputs": [
    {
     "name": "stdout",
     "output_type": "stream",
     "text": [
      "Effect size: 0.131\n"
     ]
    }
   ],
   "source": [
    "p_A = (df[df['checkout_page']=='A']['purchased']).mean()\n",
    "p_C = (df[df['checkout_page']=='C']['purchased']).mean()\n",
    "\n",
    "effect_size = proportion_effectsize(p_C, p_A)\n",
    "print(f'Effect size: {effect_size:.3f}')\n",
    "# Effect size is small."
   ]
  },
  {
   "cell_type": "code",
   "execution_count": 57,
   "id": "91e30c0b-a45b-47f1-a134-2ad080e2ea1c",
   "metadata": {},
   "outputs": [
    {
     "data": {
      "text/plain": [
       "0.9990478888008646"
      ]
     },
     "execution_count": 57,
     "metadata": {},
     "output_type": "execute_result"
    }
   ],
   "source": [
    "# The power of our test\n",
    "power.TTestIndPower().power(effect_size=effect_size,\n",
    "                                alpha=0.05,\n",
    "                                nobs1=3000)\n",
    "# We have ~100% chance to identify difference, if it exists between groups A and C."
   ]
  },
  {
   "cell_type": "code",
   "execution_count": 58,
   "id": "ff6b76fa-9c47-4264-ab71-f28aa59a5acb",
   "metadata": {},
   "outputs": [
    {
     "name": "stdout",
     "output_type": "stream",
     "text": [
      "Group A signup rate: 0.821\n",
      "Group C signup rate: 0.87\n",
      "p-value: 2.4875094762199836e-07\n"
     ]
    }
   ],
   "source": [
    "# Between A and C\n",
    "n_A = df[df['checkout_page'] == 'A']['user_id'].nunique()\n",
    "n_C = df[df['checkout_page'] == 'C']['user_id'].nunique()\n",
    "\n",
    "signup_A = df[df['checkout_page'] == 'A'].groupby('user_id')['purchased'].max().sum()\n",
    "no_signup_A = n_A - signup_A\n",
    "signup_C = df[df['checkout_page'] == 'C'].groupby('user_id')['purchased'].max().sum()\n",
    "no_signup_C = n_C - signup_C\n",
    "\n",
    "table = [[signup_A, no_signup_A], [signup_C, no_signup_C]]\n",
    "print('Group A signup rate:',round(signup_A/n_A,3))\n",
    "print('Group C signup rate:',round(signup_C/n_C,3))\n",
    "\n",
    "\n",
    "print('p-value:', chi2_contingency(table, correction=False)[1])\n",
    "# There is dependency between A and C, so we can conduct z-test."
   ]
  },
  {
   "cell_type": "code",
   "execution_count": 67,
   "id": "8dd46556-d3ae-4df1-9eca-42e9bb8b8ef5",
   "metadata": {},
   "outputs": [
    {
     "name": "stdout",
     "output_type": "stream",
     "text": [
      "p-value: 0.0000\n",
      "Group A 95% CI : [0.8072, 0.8349]\n",
      "Group C 95% CI : [0.8575, 0.8818]\n"
     ]
    }
   ],
   "source": [
    "signups_actest = [signup_A, signup_C]\n",
    "n_actest = [n_A, n_C]\n",
    "\n",
    "z_stat, pvalue = proportions_ztest(\n",
    "    signups_actest,\n",
    "    nobs=n_actest\n",
    ")\n",
    "\n",
    "(A_lo95, C_lo95), (A_up95, C_up95) = proportion_confint(\n",
    "    signups_actest,\n",
    "    nobs=n_actest,\n",
    "    alpha=0.05)\n",
    "\n",
    "print(f'p-value: {pvalue:.4f}')\n",
    "print(f'Group A 95% CI : [{A_lo95:.4f}, {A_up95:.4f}]')\n",
    "print(f'Group C 95% CI : [{C_lo95:.4f}, {C_up95:.4f}]')\n",
    "# As p-value < 0.05 - we reject our null hypothesis. -> C > A"
   ]
  },
  {
   "cell_type": "markdown",
   "id": "3647729a-1562-4697-863b-3d65d55f12ff",
   "metadata": {},
   "source": [
    "### B and C"
   ]
  },
  {
   "cell_type": "code",
   "execution_count": 68,
   "id": "2126105d-f14d-4dbc-9f73-3d5cdf7b5771",
   "metadata": {},
   "outputs": [
    {
     "name": "stdout",
     "output_type": "stream",
     "text": [
      "Effect size: 0.059\n"
     ]
    }
   ],
   "source": [
    "p_B = (df[df['checkout_page']=='B']['purchased']).mean()\n",
    "p_C = (df[df['checkout_page']=='C']['purchased']).mean()\n",
    "\n",
    "effect_size = proportion_effectsize(p_C, p_B)\n",
    "print(f'Effect size: {effect_size:.3f}')\n",
    "# Effect size is small."
   ]
  },
  {
   "cell_type": "code",
   "execution_count": 69,
   "id": "ea770473-ca28-4c93-a063-febbc9783c4e",
   "metadata": {},
   "outputs": [
    {
     "data": {
      "text/plain": [
       "0.6291979008533727"
      ]
     },
     "execution_count": 69,
     "metadata": {},
     "output_type": "execute_result"
    }
   ],
   "source": [
    "# The power of our test\n",
    "power.TTestIndPower().power(effect_size=effect_size,\n",
    "                                alpha=0.05,\n",
    "                                nobs1=3000)\n",
    "# We have ~63% chance to identify difference, if it exists between groups B and C."
   ]
  },
  {
   "cell_type": "code",
   "execution_count": 70,
   "id": "d50506ae-71e3-4567-a275-d9e0fe2617f9",
   "metadata": {},
   "outputs": [
    {
     "name": "stdout",
     "output_type": "stream",
     "text": [
      "Group B signup rate: 0.848\n",
      "Group C signup rate: 0.87\n",
      "p-value: 0.016217310996546656\n"
     ]
    }
   ],
   "source": [
    "# Between B and C\n",
    "n_B = df[df['checkout_page'] == 'B']['user_id'].nunique()\n",
    "n_C = df[df['checkout_page'] == 'C']['user_id'].nunique()\n",
    "\n",
    "signup_B = df[df['checkout_page'] == 'B'].groupby('user_id')['purchased'].max().sum()\n",
    "no_signup_B = n_B - signup_B\n",
    "signup_C = df[df['checkout_page'] == 'C'].groupby('user_id')['purchased'].max().sum()\n",
    "no_signup_C = n_C - signup_C\n",
    "\n",
    "table = [[signup_B, no_signup_B], [signup_C, no_signup_C]]\n",
    "print('Group B signup rate:',round(signup_B/n_B,3))\n",
    "print('Group C signup rate:',round(signup_C/n_C,3))\n",
    "\n",
    "print('p-value:', chi2_contingency(table, correction=False)[1])\n",
    "# There is dependency between B and C, so we can conduct z-test."
   ]
  },
  {
   "cell_type": "code",
   "execution_count": 76,
   "id": "c92f8add-8fec-41cc-8f94-50c426031ae2",
   "metadata": {},
   "outputs": [
    {
     "name": "stdout",
     "output_type": "stream",
     "text": [
      "p-value: 0.0162\n",
      "Group B 95% CI : [0.8349, 0.8608]\n",
      "Group C 95% CI : [0.8575, 0.8818]\n"
     ]
    }
   ],
   "source": [
    "signups_bctest = [signup_B, signup_C]\n",
    "n_bctest = [n_B, n_C]\n",
    "\n",
    "z_stat, pvalue = proportions_ztest(\n",
    "    signups_bctest,\n",
    "    nobs=n_bctest\n",
    ")\n",
    "\n",
    "(B_lo95, C_lo95), (B_up95, C_up95) = proportion_confint(\n",
    "    signups_bctest,\n",
    "    nobs=n_bctest,\n",
    "    alpha=0.05)\n",
    "\n",
    "print(f'p-value: {pvalue:.4f}')\n",
    "print(f'Group B 95% CI : [{B_lo95:.4f}, {B_up95:.4f}]')\n",
    "print(f'Group C 95% CI : [{C_lo95:.4f}, {C_up95:.4f}]')\n",
    "# As p-value < 0.05 - we reject our null hypothesis. -> C > B"
   ]
  },
  {
   "cell_type": "code",
   "execution_count": 77,
   "id": "853f3d4c-1e02-4747-a643-e9e0be2afc20",
   "metadata": {},
   "outputs": [
    {
     "name": "stdout",
     "output_type": "stream",
     "text": [
      "(array([ True,  True,  True]), array([1.71960429e-02, 7.46252657e-07, 4.78671946e-02]), 0.016952427508441503, 0.016666666666666666)\n"
     ]
    }
   ],
   "source": [
    "# Apply correction.\n",
    "pvals=[0.005765187821271246, 2.487509476219933e-07, 0.01621731099654653]\n",
    "\n",
    "corrected = smt.multipletests(pvals, \n",
    "                                alpha=0.05, \n",
    "                                method='sidak')\n",
    "print(corrected)"
   ]
  },
  {
   "cell_type": "raw",
   "id": "eca8c939-c260-4433-8270-f39ae3894eef",
   "metadata": {},
   "source": [
    "As we can observe, option \"C\" is the best one in terms of perfomace of \"purchased\" ratio."
   ]
  },
  {
   "cell_type": "raw",
   "id": "e5c39e81-7bc3-48fd-92e5-c51118bc4823",
   "metadata": {},
   "source": []
  },
  {
   "cell_type": "raw",
   "id": "925878a2-acab-4038-879f-a9bcb050f521",
   "metadata": {},
   "source": []
  },
  {
   "cell_type": "markdown",
   "id": "9164f24e-e544-4e3b-a77d-b2b74f256c07",
   "metadata": {},
   "source": [
    "## Time spent on page per user"
   ]
  },
  {
   "cell_type": "code",
   "execution_count": 281,
   "id": "8b74d9d8-d465-403e-a14a-a17990ac0314",
   "metadata": {},
   "outputs": [
    {
     "name": "stdout",
     "output_type": "stream",
     "text": [
      "                      W     pval  normal\n",
      "checkout_page                           \n",
      "A              1.880245  0.39058    True\n",
      "B              1.880245  0.39058    True\n",
      "C              1.880245  0.39058    True\n"
     ]
    }
   ],
   "source": [
    "# Check normality of each group.\n",
    "normality = pingouin.normality(\n",
    "    data=df,\n",
    "    dv='time_on_page',\n",
    "    group='checkout_page',\n",
    "    method='jarque_bera',\n",
    "    alpha=0.05)\n",
    "print(normality)"
   ]
  },
  {
   "cell_type": "markdown",
   "id": "3c55cb35-3591-4d2e-aa74-344c4f66a32e",
   "metadata": {},
   "source": [
    "### A and B"
   ]
  },
  {
   "cell_type": "code",
   "execution_count": 166,
   "id": "d8a12a20-95e8-403c-89b4-e8919e9c8fa5",
   "metadata": {},
   "outputs": [
    {
     "name": "stdout",
     "output_type": "stream",
     "text": [
      "Effect size: -0.18\n"
     ]
    }
   ],
   "source": [
    "print(f\"Effect size: {cohens_d(df[df['checkout_page']=='A']['time_on_page'], df[df['checkout_page']=='B']['time_on_page']):.2f}\")\n",
    "# This effect size is negative and small, that mean, that B has less \"times_on_page\", if we compare it with A."
   ]
  },
  {
   "cell_type": "code",
   "execution_count": 201,
   "id": "02cb1a0f-b749-4c78-bf0f-5c3db5f4d935",
   "metadata": {},
   "outputs": [
    {
     "data": {
      "text/plain": [
       "0.9999997976243107"
      ]
     },
     "execution_count": 201,
     "metadata": {},
     "output_type": "execute_result"
    }
   ],
   "source": [
    "# The power of our test.\n",
    "effect_size = cohens_d(df[df['checkout_page']=='A']['time_on_page'], df[df['checkout_page']=='B']['time_on_page'])\n",
    "power.NormalIndPower().power(effect_size=effect_size,\n",
    "                                alpha=0.05,\n",
    "                                nobs1=3000)\n",
    "# We have ~100% chance to identify difference, if it exists between groups A and B."
   ]
  },
  {
   "cell_type": "code",
   "execution_count": 285,
   "id": "ecd1b567-1aca-4b8d-9bf6-cb044be45eb8",
   "metadata": {},
   "outputs": [
    {
     "name": "stdout",
     "output_type": "stream",
     "text": [
      "p-value: 2.349604146429548e-12\n",
      "CI for difference: [-2.49 -1.4 ]\n"
     ]
    }
   ],
   "source": [
    "# Between A and B\n",
    "test_ab = pingouin.ttest(x=df[df['checkout_page']=='B']['time_on_page'], \n",
    "                        y=df[df['checkout_page']=='A']['time_on_page'], \n",
    "                        alternative=\"two-sided\")\n",
    "print(f'p-value: {test_ab[\"p-val\"][0]}')\n",
    "print(f'CI for difference: {test_ab[\"CI95%\"][0]}')\n",
    "# As p-value < 0.05, but B < A, so the default option is better."
   ]
  },
  {
   "cell_type": "markdown",
   "id": "26509c40-aa3a-4877-851c-deda489e989b",
   "metadata": {},
   "source": [
    "### A and C"
   ]
  },
  {
   "cell_type": "code",
   "execution_count": 218,
   "id": "a71978fc-8eb8-442c-bd0f-aa37c3a6706e",
   "metadata": {},
   "outputs": [
    {
     "name": "stdout",
     "output_type": "stream",
     "text": [
      "Effect size: -0.23\n"
     ]
    }
   ],
   "source": [
    "print(f\"Effect size: {cohens_d(df[df['checkout_page']=='A']['time_on_page'], df[df['checkout_page']=='C']['time_on_page']):.2f}\")\n",
    "# This effect size is negative and small, that mean, that C has less \"times_on_page\", if we compare it with A."
   ]
  },
  {
   "cell_type": "code",
   "execution_count": 350,
   "id": "7981ff79-5343-4943-9727-94d78ab8fad9",
   "metadata": {},
   "outputs": [
    {
     "name": "stdout",
     "output_type": "stream",
     "text": [
      "p-value: 1.3161178697765583e-18\n",
      "CI for difference: [-2.99 -1.9 ]\n"
     ]
    }
   ],
   "source": [
    "# Between A and C\n",
    "test_ac = pingouin.ttest(x=df[df['checkout_page']=='C']['time_on_page'], \n",
    "                y=df[df['checkout_page']=='A']['time_on_page'], \n",
    "                alternative=\"two-sided\")\n",
    "\n",
    "print(f'p-value: {test_ac[\"p-val\"][0]}')\n",
    "print(f'CI for difference: {test_ac[\"CI95%\"][0]}')\n",
    "# As p-value < 0.05, but C < A, so the default option is better."
   ]
  },
  {
   "cell_type": "markdown",
   "id": "c68e624e-f15c-4623-ac4a-5bd113476fe5",
   "metadata": {},
   "source": [
    "### B and C"
   ]
  },
  {
   "cell_type": "code",
   "execution_count": 290,
   "id": "d70b0bd7-4458-4778-bc30-c3be1077f9d9",
   "metadata": {},
   "outputs": [
    {
     "name": "stdout",
     "output_type": "stream",
     "text": [
      "Effect size: -0.05\n"
     ]
    }
   ],
   "source": [
    "print(f\"Effect size: {cohens_d(df[df['checkout_page']=='B']['time_on_page'], df[df['checkout_page']=='C']['time_on_page']):.2f}\")\n",
    "# This effect size is negative and small."
   ]
  },
  {
   "cell_type": "code",
   "execution_count": 345,
   "id": "31ff21e4-def9-4a1f-b30b-06072eeb4718",
   "metadata": {},
   "outputs": [
    {
     "name": "stdout",
     "output_type": "stream",
     "text": [
      "p-value: 0.023020974035858878\n",
      "CI for difference: [ -inf -0.09]\n"
     ]
    }
   ],
   "source": [
    "# Between B and C\n",
    "test_bc = pingouin.ttest(x=df[df['checkout_page']=='C']['time_on_page'], \n",
    "                            y=df[df['checkout_page']=='B']['time_on_page'], \n",
    "                            alternative=\"less\")\n",
    "\n",
    "print(f'p-value: {test_bc[\"p-val\"][0]}')\n",
    "print(f'CI for difference: {test_bc[\"CI95%\"][0]}')\n",
    "# As p-value < 0.05, but C < B, so the option \"B\" is better. But, if we apply Sidak correction - there is no signifficant difference."
   ]
  },
  {
   "cell_type": "code",
   "execution_count": 346,
   "id": "87717de1-fff2-4958-a54e-e95d970e7b8d",
   "metadata": {},
   "outputs": [
    {
     "name": "stdout",
     "output_type": "stream",
     "text": [
      "(array([ True,  True, False]), array([7.04881244e-12, 3.94835361e-18, 6.74852267e-02]), 0.016952427508441503, 0.016666666666666666)\n"
     ]
    }
   ],
   "source": [
    "# Apply correction.\n",
    "pvals=[2.349604146429548e-12, 1.3161178697765583e-18, 0.023020974035858878]\n",
    "\n",
    "corrected = smt.multipletests(pvals, \n",
    "                                alpha=0.05, \n",
    "                                method='sidak')\n",
    "print(corrected)"
   ]
  },
  {
   "cell_type": "code",
   "execution_count": null,
   "id": "b8c3532b-fb69-4ed7-b7da-de2364fd5bbd",
   "metadata": {},
   "outputs": [],
   "source": [
    "As we observed, the default option \"A\" is signifficantly better, than B and C, that is why users are more likely to spend more time on the old page. "
   ]
  },
  {
   "cell_type": "raw",
   "id": "77b51078-4a00-4871-9751-3298ed551987",
   "metadata": {},
   "source": []
  },
  {
   "cell_type": "raw",
   "id": "0f548df7-4a25-4838-a026-42ecbdc5d81c",
   "metadata": {},
   "source": []
  },
  {
   "cell_type": "markdown",
   "id": "6f5cadd7-6391-47c7-87aa-089f8bda6b25",
   "metadata": {},
   "source": [
    "## Partial conclusion"
   ]
  },
  {
   "cell_type": "code",
   "execution_count": null,
   "id": "e9621d17-e0cd-44d2-9e62-68b5fa875419",
   "metadata": {},
   "outputs": [],
   "source": [
    "If we consider to increase our sales per view and purchase rate - \"C\" would be the best choice, but audience will spend less time on our website. \n",
    "Pageview \"A\" can keep the user on the page longer, than other options, however, financial aspect here has the worst perfomance.\n",
    "\n",
    "As we have this uncertainty in time spend on page - it's better to conduct additional analysis, where i will explore time spent on pageview between users, who made a purchase and those, who didn't."
   ]
  },
  {
   "cell_type": "raw",
   "id": "fb2d9ccb-1f03-4820-b3b5-e5cfbd4e5b95",
   "metadata": {},
   "source": []
  },
  {
   "cell_type": "raw",
   "id": "f6f3e997-d498-4593-a15c-b1640840d4b0",
   "metadata": {},
   "source": []
  },
  {
   "cell_type": "markdown",
   "id": "406b23b6-fb04-4423-abc4-f30d049f1956",
   "metadata": {},
   "source": [
    "## Additional analysis of \"avg page time per group\""
   ]
  },
  {
   "cell_type": "code",
   "execution_count": 386,
   "id": "64159fc9-f17c-4823-8991-d89c892ff05b",
   "metadata": {},
   "outputs": [
    {
     "data": {
      "text/html": [
       "<div>\n",
       "<style scoped>\n",
       "    .dataframe tbody tr th:only-of-type {\n",
       "        vertical-align: middle;\n",
       "    }\n",
       "\n",
       "    .dataframe tbody tr th {\n",
       "        vertical-align: top;\n",
       "    }\n",
       "\n",
       "    .dataframe thead th {\n",
       "        text-align: right;\n",
       "    }\n",
       "</style>\n",
       "<table border=\"1\" class=\"dataframe\">\n",
       "  <thead>\n",
       "    <tr style=\"text-align: right;\">\n",
       "      <th></th>\n",
       "      <th>Contrast</th>\n",
       "      <th>purchased</th>\n",
       "      <th>A</th>\n",
       "      <th>B</th>\n",
       "      <th>Paired</th>\n",
       "      <th>Parametric</th>\n",
       "      <th>T</th>\n",
       "      <th>dof</th>\n",
       "      <th>alternative</th>\n",
       "      <th>p-unc</th>\n",
       "      <th>p-corr</th>\n",
       "      <th>p-adjust</th>\n",
       "      <th>BF10</th>\n",
       "      <th>cohen</th>\n",
       "    </tr>\n",
       "  </thead>\n",
       "  <tbody>\n",
       "    <tr>\n",
       "      <th>0</th>\n",
       "      <td>purchased</td>\n",
       "      <td>-</td>\n",
       "      <td>0.0</td>\n",
       "      <td>1.0</td>\n",
       "      <td>False</td>\n",
       "      <td>True</td>\n",
       "      <td>-1.924164</td>\n",
       "      <td>1926.437966</td>\n",
       "      <td>greater</td>\n",
       "      <td>9.727594e-01</td>\n",
       "      <td>NaN</td>\n",
       "      <td>NaN</td>\n",
       "      <td>0.415</td>\n",
       "      <td>-0.056517</td>\n",
       "    </tr>\n",
       "    <tr>\n",
       "      <th>1</th>\n",
       "      <td>checkout_page</td>\n",
       "      <td>-</td>\n",
       "      <td>A</td>\n",
       "      <td>B</td>\n",
       "      <td>False</td>\n",
       "      <td>True</td>\n",
       "      <td>7.026673</td>\n",
       "      <td>5809.098907</td>\n",
       "      <td>greater</td>\n",
       "      <td>1.178802e-12</td>\n",
       "      <td>3.536504e-12</td>\n",
       "      <td>sidak</td>\n",
       "      <td>2.611e+09</td>\n",
       "      <td>0.181428</td>\n",
       "    </tr>\n",
       "    <tr>\n",
       "      <th>2</th>\n",
       "      <td>checkout_page</td>\n",
       "      <td>-</td>\n",
       "      <td>A</td>\n",
       "      <td>C</td>\n",
       "      <td>False</td>\n",
       "      <td>True</td>\n",
       "      <td>8.833244</td>\n",
       "      <td>5809.098907</td>\n",
       "      <td>greater</td>\n",
       "      <td>6.635541e-19</td>\n",
       "      <td>0.000000e+00</td>\n",
       "      <td>sidak</td>\n",
       "      <td>3.622e+15</td>\n",
       "      <td>0.228073</td>\n",
       "    </tr>\n",
       "    <tr>\n",
       "      <th>3</th>\n",
       "      <td>checkout_page</td>\n",
       "      <td>-</td>\n",
       "      <td>B</td>\n",
       "      <td>C</td>\n",
       "      <td>False</td>\n",
       "      <td>True</td>\n",
       "      <td>1.995423</td>\n",
       "      <td>5998.000000</td>\n",
       "      <td>greater</td>\n",
       "      <td>2.302097e-02</td>\n",
       "      <td>6.748523e-02</td>\n",
       "      <td>sidak</td>\n",
       "      <td>0.424</td>\n",
       "      <td>0.051522</td>\n",
       "    </tr>\n",
       "    <tr>\n",
       "      <th>4</th>\n",
       "      <td>purchased * checkout_page</td>\n",
       "      <td>0.0</td>\n",
       "      <td>A</td>\n",
       "      <td>B</td>\n",
       "      <td>False</td>\n",
       "      <td>True</td>\n",
       "      <td>2.940592</td>\n",
       "      <td>994.778280</td>\n",
       "      <td>greater</td>\n",
       "      <td>1.675844e-03</td>\n",
       "      <td>1.001303e-02</td>\n",
       "      <td>sidak</td>\n",
       "      <td>9.912</td>\n",
       "      <td>0.183887</td>\n",
       "    </tr>\n",
       "    <tr>\n",
       "      <th>5</th>\n",
       "      <td>purchased * checkout_page</td>\n",
       "      <td>0.0</td>\n",
       "      <td>A</td>\n",
       "      <td>C</td>\n",
       "      <td>False</td>\n",
       "      <td>True</td>\n",
       "      <td>3.763482</td>\n",
       "      <td>927.435018</td>\n",
       "      <td>greater</td>\n",
       "      <td>8.904654e-05</td>\n",
       "      <td>5.341603e-04</td>\n",
       "      <td>sidak</td>\n",
       "      <td>150.356</td>\n",
       "      <td>0.240788</td>\n",
       "    </tr>\n",
       "    <tr>\n",
       "      <th>6</th>\n",
       "      <td>purchased * checkout_page</td>\n",
       "      <td>0.0</td>\n",
       "      <td>B</td>\n",
       "      <td>C</td>\n",
       "      <td>False</td>\n",
       "      <td>True</td>\n",
       "      <td>0.937999</td>\n",
       "      <td>841.944297</td>\n",
       "      <td>greater</td>\n",
       "      <td>1.742570e-01</td>\n",
       "      <td>6.829926e-01</td>\n",
       "      <td>sidak</td>\n",
       "      <td>0.236</td>\n",
       "      <td>0.064169</td>\n",
       "    </tr>\n",
       "    <tr>\n",
       "      <th>7</th>\n",
       "      <td>purchased * checkout_page</td>\n",
       "      <td>1.0</td>\n",
       "      <td>A</td>\n",
       "      <td>B</td>\n",
       "      <td>False</td>\n",
       "      <td>True</td>\n",
       "      <td>6.454550</td>\n",
       "      <td>4790.764012</td>\n",
       "      <td>greater</td>\n",
       "      <td>5.963947e-11</td>\n",
       "      <td>3.578371e-10</td>\n",
       "      <td>sidak</td>\n",
       "      <td>6.13e+07</td>\n",
       "      <td>0.183068</td>\n",
       "    </tr>\n",
       "    <tr>\n",
       "      <th>8</th>\n",
       "      <td>purchased * checkout_page</td>\n",
       "      <td>1.0</td>\n",
       "      <td>A</td>\n",
       "      <td>C</td>\n",
       "      <td>False</td>\n",
       "      <td>True</td>\n",
       "      <td>8.130901</td>\n",
       "      <td>4809.526528</td>\n",
       "      <td>greater</td>\n",
       "      <td>2.686638e-16</td>\n",
       "      <td>1.332268e-15</td>\n",
       "      <td>sidak</td>\n",
       "      <td>1.059e+13</td>\n",
       "      <td>0.229726</td>\n",
       "    </tr>\n",
       "    <tr>\n",
       "      <th>9</th>\n",
       "      <td>purchased * checkout_page</td>\n",
       "      <td>1.0</td>\n",
       "      <td>B</td>\n",
       "      <td>C</td>\n",
       "      <td>False</td>\n",
       "      <td>True</td>\n",
       "      <td>1.843407</td>\n",
       "      <td>5139.861368</td>\n",
       "      <td>greater</td>\n",
       "      <td>3.266356e-02</td>\n",
       "      <td>1.806579e-01</td>\n",
       "      <td>sidak</td>\n",
       "      <td>0.342</td>\n",
       "      <td>0.051406</td>\n",
       "    </tr>\n",
       "  </tbody>\n",
       "</table>\n",
       "</div>"
      ],
      "text/plain": [
       "                    Contrast purchased    A    B Paired Parametric         T  \\\n",
       "0                  purchased         -  0.0  1.0  False       True -1.924164   \n",
       "1              checkout_page         -    A    B  False       True  7.026673   \n",
       "2              checkout_page         -    A    C  False       True  8.833244   \n",
       "3              checkout_page         -    B    C  False       True  1.995423   \n",
       "4  purchased * checkout_page       0.0    A    B  False       True  2.940592   \n",
       "5  purchased * checkout_page       0.0    A    C  False       True  3.763482   \n",
       "6  purchased * checkout_page       0.0    B    C  False       True  0.937999   \n",
       "7  purchased * checkout_page       1.0    A    B  False       True  6.454550   \n",
       "8  purchased * checkout_page       1.0    A    C  False       True  8.130901   \n",
       "9  purchased * checkout_page       1.0    B    C  False       True  1.843407   \n",
       "\n",
       "           dof alternative         p-unc        p-corr p-adjust       BF10  \\\n",
       "0  1926.437966     greater  9.727594e-01           NaN      NaN      0.415   \n",
       "1  5809.098907     greater  1.178802e-12  3.536504e-12    sidak  2.611e+09   \n",
       "2  5809.098907     greater  6.635541e-19  0.000000e+00    sidak  3.622e+15   \n",
       "3  5998.000000     greater  2.302097e-02  6.748523e-02    sidak      0.424   \n",
       "4   994.778280     greater  1.675844e-03  1.001303e-02    sidak      9.912   \n",
       "5   927.435018     greater  8.904654e-05  5.341603e-04    sidak    150.356   \n",
       "6   841.944297     greater  1.742570e-01  6.829926e-01    sidak      0.236   \n",
       "7  4790.764012     greater  5.963947e-11  3.578371e-10    sidak   6.13e+07   \n",
       "8  4809.526528     greater  2.686638e-16  1.332268e-15    sidak  1.059e+13   \n",
       "9  5139.861368     greater  3.266356e-02  1.806579e-01    sidak      0.342   \n",
       "\n",
       "      cohen  \n",
       "0 -0.056517  \n",
       "1  0.181428  \n",
       "2  0.228073  \n",
       "3  0.051522  \n",
       "4  0.183887  \n",
       "5  0.240788  \n",
       "6  0.064169  \n",
       "7  0.183068  \n",
       "8  0.229726  \n",
       "9  0.051406  "
      ]
     },
     "execution_count": 386,
     "metadata": {},
     "output_type": "execute_result"
    }
   ],
   "source": [
    "pairwise = pingouin.pairwise_tests(data=df, \n",
    "                                    dv='time_on_page', \n",
    "                                    between=['purchased', 'checkout_page'],\n",
    "                                    subject='user_id',\n",
    "                                    padjust='sidak',\n",
    "                                    alpha=0.05,\n",
    "                                    alternative=\"greater\",\n",
    "                                    effsize='cohen',           # known estimator of \"effect size\"\n",
    "                                    correction=True            # uneven sizes of the groups and heteroscedasticity\n",
    "                                  )\n",
    "\n",
    "pairwise"
   ]
  },
  {
   "cell_type": "code",
   "execution_count": 387,
   "id": "e2b9b9ce-d8dd-4a42-b97e-7fb5627b985a",
   "metadata": {},
   "outputs": [],
   "source": [
    "# Apply correction.\n",
    "pvals = pairwise['p-unc'].to_list()\n",
    "\n",
    "corrected = smt.multipletests(pvals, \n",
    "                                alpha=0.05, \n",
    "                                method='sidak')\n",
    "pairwise['accept'] = pd.DataFrame(corrected[0])"
   ]
  },
  {
   "cell_type": "code",
   "execution_count": 388,
   "id": "fc17cd56-b651-40d8-b72c-12e91e0002dd",
   "metadata": {},
   "outputs": [
    {
     "data": {
      "text/html": [
       "<div>\n",
       "<style scoped>\n",
       "    .dataframe tbody tr th:only-of-type {\n",
       "        vertical-align: middle;\n",
       "    }\n",
       "\n",
       "    .dataframe tbody tr th {\n",
       "        vertical-align: top;\n",
       "    }\n",
       "\n",
       "    .dataframe thead th {\n",
       "        text-align: right;\n",
       "    }\n",
       "</style>\n",
       "<table border=\"1\" class=\"dataframe\">\n",
       "  <thead>\n",
       "    <tr style=\"text-align: right;\">\n",
       "      <th></th>\n",
       "      <th>Contrast</th>\n",
       "      <th>purchased</th>\n",
       "      <th>A</th>\n",
       "      <th>B</th>\n",
       "      <th>Paired</th>\n",
       "      <th>Parametric</th>\n",
       "      <th>T</th>\n",
       "      <th>dof</th>\n",
       "      <th>alternative</th>\n",
       "      <th>p-unc</th>\n",
       "      <th>p-corr</th>\n",
       "      <th>p-adjust</th>\n",
       "      <th>BF10</th>\n",
       "      <th>cohen</th>\n",
       "      <th>accept</th>\n",
       "    </tr>\n",
       "  </thead>\n",
       "  <tbody>\n",
       "    <tr>\n",
       "      <th>0</th>\n",
       "      <td>purchased</td>\n",
       "      <td>-</td>\n",
       "      <td>0.0</td>\n",
       "      <td>1.0</td>\n",
       "      <td>False</td>\n",
       "      <td>True</td>\n",
       "      <td>-1.924164</td>\n",
       "      <td>1926.437966</td>\n",
       "      <td>greater</td>\n",
       "      <td>9.727594e-01</td>\n",
       "      <td>NaN</td>\n",
       "      <td>NaN</td>\n",
       "      <td>0.415</td>\n",
       "      <td>-0.056517</td>\n",
       "      <td>False</td>\n",
       "    </tr>\n",
       "    <tr>\n",
       "      <th>1</th>\n",
       "      <td>checkout_page</td>\n",
       "      <td>-</td>\n",
       "      <td>A</td>\n",
       "      <td>B</td>\n",
       "      <td>False</td>\n",
       "      <td>True</td>\n",
       "      <td>7.026673</td>\n",
       "      <td>5809.098907</td>\n",
       "      <td>greater</td>\n",
       "      <td>1.178802e-12</td>\n",
       "      <td>3.536504e-12</td>\n",
       "      <td>sidak</td>\n",
       "      <td>2.611e+09</td>\n",
       "      <td>0.181428</td>\n",
       "      <td>True</td>\n",
       "    </tr>\n",
       "    <tr>\n",
       "      <th>2</th>\n",
       "      <td>checkout_page</td>\n",
       "      <td>-</td>\n",
       "      <td>A</td>\n",
       "      <td>C</td>\n",
       "      <td>False</td>\n",
       "      <td>True</td>\n",
       "      <td>8.833244</td>\n",
       "      <td>5809.098907</td>\n",
       "      <td>greater</td>\n",
       "      <td>6.635541e-19</td>\n",
       "      <td>0.000000e+00</td>\n",
       "      <td>sidak</td>\n",
       "      <td>3.622e+15</td>\n",
       "      <td>0.228073</td>\n",
       "      <td>True</td>\n",
       "    </tr>\n",
       "    <tr>\n",
       "      <th>3</th>\n",
       "      <td>checkout_page</td>\n",
       "      <td>-</td>\n",
       "      <td>B</td>\n",
       "      <td>C</td>\n",
       "      <td>False</td>\n",
       "      <td>True</td>\n",
       "      <td>1.995423</td>\n",
       "      <td>5998.000000</td>\n",
       "      <td>greater</td>\n",
       "      <td>2.302097e-02</td>\n",
       "      <td>6.748523e-02</td>\n",
       "      <td>sidak</td>\n",
       "      <td>0.424</td>\n",
       "      <td>0.051522</td>\n",
       "      <td>False</td>\n",
       "    </tr>\n",
       "    <tr>\n",
       "      <th>4</th>\n",
       "      <td>purchased * checkout_page</td>\n",
       "      <td>0.0</td>\n",
       "      <td>A</td>\n",
       "      <td>B</td>\n",
       "      <td>False</td>\n",
       "      <td>True</td>\n",
       "      <td>2.940592</td>\n",
       "      <td>994.778280</td>\n",
       "      <td>greater</td>\n",
       "      <td>1.675844e-03</td>\n",
       "      <td>1.001303e-02</td>\n",
       "      <td>sidak</td>\n",
       "      <td>9.912</td>\n",
       "      <td>0.183887</td>\n",
       "      <td>True</td>\n",
       "    </tr>\n",
       "    <tr>\n",
       "      <th>5</th>\n",
       "      <td>purchased * checkout_page</td>\n",
       "      <td>0.0</td>\n",
       "      <td>A</td>\n",
       "      <td>C</td>\n",
       "      <td>False</td>\n",
       "      <td>True</td>\n",
       "      <td>3.763482</td>\n",
       "      <td>927.435018</td>\n",
       "      <td>greater</td>\n",
       "      <td>8.904654e-05</td>\n",
       "      <td>5.341603e-04</td>\n",
       "      <td>sidak</td>\n",
       "      <td>150.356</td>\n",
       "      <td>0.240788</td>\n",
       "      <td>True</td>\n",
       "    </tr>\n",
       "    <tr>\n",
       "      <th>6</th>\n",
       "      <td>purchased * checkout_page</td>\n",
       "      <td>0.0</td>\n",
       "      <td>B</td>\n",
       "      <td>C</td>\n",
       "      <td>False</td>\n",
       "      <td>True</td>\n",
       "      <td>0.937999</td>\n",
       "      <td>841.944297</td>\n",
       "      <td>greater</td>\n",
       "      <td>1.742570e-01</td>\n",
       "      <td>6.829926e-01</td>\n",
       "      <td>sidak</td>\n",
       "      <td>0.236</td>\n",
       "      <td>0.064169</td>\n",
       "      <td>False</td>\n",
       "    </tr>\n",
       "    <tr>\n",
       "      <th>7</th>\n",
       "      <td>purchased * checkout_page</td>\n",
       "      <td>1.0</td>\n",
       "      <td>A</td>\n",
       "      <td>B</td>\n",
       "      <td>False</td>\n",
       "      <td>True</td>\n",
       "      <td>6.454550</td>\n",
       "      <td>4790.764012</td>\n",
       "      <td>greater</td>\n",
       "      <td>5.963947e-11</td>\n",
       "      <td>3.578371e-10</td>\n",
       "      <td>sidak</td>\n",
       "      <td>6.13e+07</td>\n",
       "      <td>0.183068</td>\n",
       "      <td>True</td>\n",
       "    </tr>\n",
       "    <tr>\n",
       "      <th>8</th>\n",
       "      <td>purchased * checkout_page</td>\n",
       "      <td>1.0</td>\n",
       "      <td>A</td>\n",
       "      <td>C</td>\n",
       "      <td>False</td>\n",
       "      <td>True</td>\n",
       "      <td>8.130901</td>\n",
       "      <td>4809.526528</td>\n",
       "      <td>greater</td>\n",
       "      <td>2.686638e-16</td>\n",
       "      <td>1.332268e-15</td>\n",
       "      <td>sidak</td>\n",
       "      <td>1.059e+13</td>\n",
       "      <td>0.229726</td>\n",
       "      <td>True</td>\n",
       "    </tr>\n",
       "    <tr>\n",
       "      <th>9</th>\n",
       "      <td>purchased * checkout_page</td>\n",
       "      <td>1.0</td>\n",
       "      <td>B</td>\n",
       "      <td>C</td>\n",
       "      <td>False</td>\n",
       "      <td>True</td>\n",
       "      <td>1.843407</td>\n",
       "      <td>5139.861368</td>\n",
       "      <td>greater</td>\n",
       "      <td>3.266356e-02</td>\n",
       "      <td>1.806579e-01</td>\n",
       "      <td>sidak</td>\n",
       "      <td>0.342</td>\n",
       "      <td>0.051406</td>\n",
       "      <td>False</td>\n",
       "    </tr>\n",
       "  </tbody>\n",
       "</table>\n",
       "</div>"
      ],
      "text/plain": [
       "                    Contrast purchased    A    B Paired Parametric         T  \\\n",
       "0                  purchased         -  0.0  1.0  False       True -1.924164   \n",
       "1              checkout_page         -    A    B  False       True  7.026673   \n",
       "2              checkout_page         -    A    C  False       True  8.833244   \n",
       "3              checkout_page         -    B    C  False       True  1.995423   \n",
       "4  purchased * checkout_page       0.0    A    B  False       True  2.940592   \n",
       "5  purchased * checkout_page       0.0    A    C  False       True  3.763482   \n",
       "6  purchased * checkout_page       0.0    B    C  False       True  0.937999   \n",
       "7  purchased * checkout_page       1.0    A    B  False       True  6.454550   \n",
       "8  purchased * checkout_page       1.0    A    C  False       True  8.130901   \n",
       "9  purchased * checkout_page       1.0    B    C  False       True  1.843407   \n",
       "\n",
       "           dof alternative         p-unc        p-corr p-adjust       BF10  \\\n",
       "0  1926.437966     greater  9.727594e-01           NaN      NaN      0.415   \n",
       "1  5809.098907     greater  1.178802e-12  3.536504e-12    sidak  2.611e+09   \n",
       "2  5809.098907     greater  6.635541e-19  0.000000e+00    sidak  3.622e+15   \n",
       "3  5998.000000     greater  2.302097e-02  6.748523e-02    sidak      0.424   \n",
       "4   994.778280     greater  1.675844e-03  1.001303e-02    sidak      9.912   \n",
       "5   927.435018     greater  8.904654e-05  5.341603e-04    sidak    150.356   \n",
       "6   841.944297     greater  1.742570e-01  6.829926e-01    sidak      0.236   \n",
       "7  4790.764012     greater  5.963947e-11  3.578371e-10    sidak   6.13e+07   \n",
       "8  4809.526528     greater  2.686638e-16  1.332268e-15    sidak  1.059e+13   \n",
       "9  5139.861368     greater  3.266356e-02  1.806579e-01    sidak      0.342   \n",
       "\n",
       "      cohen  accept  \n",
       "0 -0.056517   False  \n",
       "1  0.181428    True  \n",
       "2  0.228073    True  \n",
       "3  0.051522   False  \n",
       "4  0.183887    True  \n",
       "5  0.240788    True  \n",
       "6  0.064169   False  \n",
       "7  0.183068    True  \n",
       "8  0.229726    True  \n",
       "9  0.051406   False  "
      ]
     },
     "execution_count": 388,
     "metadata": {},
     "output_type": "execute_result"
    }
   ],
   "source": [
    "pairwise\n",
    "# Doesn't matter, if user bought something or not - \"A\" page is the best in holding the user on the website."
   ]
  },
  {
   "cell_type": "raw",
   "id": "cc5ba87e-b28d-42bf-a93e-cb45ab82dafd",
   "metadata": {},
   "source": []
  },
  {
   "cell_type": "raw",
   "id": "f6b5aef9-63b1-4e01-aed0-a0f2d175daf5",
   "metadata": {},
   "source": []
  },
  {
   "cell_type": "markdown",
   "id": "b3aa3a52-d1cc-47b5-a715-5f944d37725b",
   "metadata": {},
   "source": [
    "# Conclusion"
   ]
  },
  {
   "cell_type": "code",
   "execution_count": null,
   "id": "8c49c880-abf1-424b-a332-9e3215b087f0",
   "metadata": {},
   "outputs": [],
   "source": [
    "    As there is no difference between those groups, who made a purchases and who didn't - it means that option \"A\" is the best in \"avg time spent per user\". However, i think, that user spend more time on it due to unintuitive design, since more time on page by user don't make him or her spend more money. \n",
    "    As the \"C\" have the best perfomance in making money - it will be the final choice."
   ]
  }
 ],
 "metadata": {
  "kernelspec": {
   "display_name": "Python 3 (ipykernel)",
   "language": "python",
   "name": "python3"
  },
  "language_info": {
   "codemirror_mode": {
    "name": "ipython",
    "version": 3
   },
   "file_extension": ".py",
   "mimetype": "text/x-python",
   "name": "python",
   "nbconvert_exporter": "python",
   "pygments_lexer": "ipython3",
   "version": "3.11.9"
  }
 },
 "nbformat": 4,
 "nbformat_minor": 5
}
